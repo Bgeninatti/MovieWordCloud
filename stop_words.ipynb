{
 "cells": [
  {
   "cell_type": "code",
   "execution_count": 7,
   "metadata": {},
   "outputs": [
    {
     "data": {
      "text/plain": [
       "<peewee.SqliteDatabase at 0x7fb998b4e790>"
      ]
     },
     "execution_count": 7,
     "metadata": {},
     "output_type": "execute_result"
    }
   ],
   "source": [
    "import os\n",
    "import json\n",
    "import pandas as pd\n",
    "from collections import Counter  \n",
    "\n",
    "from mwc.models import init_db, get_all_movies_with_subtitles, Movie\n",
    "from mwc.opensubitles import Subtitle\n",
    "from mwc.helpers import tokenize_textxt\n",
    "from mwc.cfg import DB_PATH\n",
    "\n",
    "init_db(DB_PATH)"
   ]
  },
  {
   "cell_type": "code",
   "execution_count": 8,
   "metadata": {},
   "outputs": [],
   "source": [
    "movies = get_all_movies_with_subtitles()"
   ]
  },
  {
   "cell_type": "code",
   "execution_count": 9,
   "metadata": {},
   "outputs": [],
   "source": [
    "all_words = []\n",
    "words_count = []\n",
    "movies_count = []\n",
    "\n",
    "for movie in  movies:    \n",
    "    subtitle = Subtitle.get_from_movie(movie)\n",
    "\n",
    "    lines = [l.content for l in subtitle.get_lines()]\n",
    "    words = tokenize_text(' '.join(lines))\n",
    "\n",
    "    counter = Counter(words.split(' '))\n",
    "    all_words += list(counter.keys())\n",
    "    words_count += list(counter.values())\n",
    "    movies_count += [1] * len(counter)\n",
    "\n"
   ]
  },
  {
   "cell_type": "code",
   "execution_count": 22,
   "metadata": {},
   "outputs": [
    {
     "data": {
      "text/html": [
       "<div>\n",
       "<style scoped>\n",
       "    .dataframe tbody tr th:only-of-type {\n",
       "        vertical-align: middle;\n",
       "    }\n",
       "\n",
       "    .dataframe tbody tr th {\n",
       "        vertical-align: top;\n",
       "    }\n",
       "\n",
       "    .dataframe thead th {\n",
       "        text-align: right;\n",
       "    }\n",
       "</style>\n",
       "<table border=\"1\" class=\"dataframe\">\n",
       "  <thead>\n",
       "    <tr style=\"text-align: right;\">\n",
       "      <th></th>\n",
       "      <th>count</th>\n",
       "      <th>movies_count</th>\n",
       "      <th>presence</th>\n",
       "    </tr>\n",
       "    <tr>\n",
       "      <th>word</th>\n",
       "      <th></th>\n",
       "      <th></th>\n",
       "      <th></th>\n",
       "    </tr>\n",
       "  </thead>\n",
       "  <tbody>\n",
       "    <tr>\n",
       "      <th>aaa</th>\n",
       "      <td>10</td>\n",
       "      <td>4</td>\n",
       "      <td>0.007018</td>\n",
       "    </tr>\n",
       "    <tr>\n",
       "      <th>aaaa</th>\n",
       "      <td>7</td>\n",
       "      <td>2</td>\n",
       "      <td>0.003509</td>\n",
       "    </tr>\n",
       "    <tr>\n",
       "      <th>aaaaaaaaahh</th>\n",
       "      <td>1</td>\n",
       "      <td>1</td>\n",
       "      <td>0.001754</td>\n",
       "    </tr>\n",
       "    <tr>\n",
       "      <th>aaaaaaah</th>\n",
       "      <td>1</td>\n",
       "      <td>1</td>\n",
       "      <td>0.001754</td>\n",
       "    </tr>\n",
       "    <tr>\n",
       "      <th>aaaaaah</th>\n",
       "      <td>2</td>\n",
       "      <td>2</td>\n",
       "      <td>0.003509</td>\n",
       "    </tr>\n",
       "    <tr>\n",
       "      <th>...</th>\n",
       "      <td>...</td>\n",
       "      <td>...</td>\n",
       "      <td>...</td>\n",
       "    </tr>\n",
       "    <tr>\n",
       "      <th>ﬁrst</th>\n",
       "      <td>4</td>\n",
       "      <td>1</td>\n",
       "      <td>0.001754</td>\n",
       "    </tr>\n",
       "    <tr>\n",
       "      <th>ﬁves</th>\n",
       "      <td>1</td>\n",
       "      <td>1</td>\n",
       "      <td>0.001754</td>\n",
       "    </tr>\n",
       "    <tr>\n",
       "      <th>ﬂag</th>\n",
       "      <td>1</td>\n",
       "      <td>1</td>\n",
       "      <td>0.001754</td>\n",
       "    </tr>\n",
       "    <tr>\n",
       "      <th>ﬂiegt</th>\n",
       "      <td>1</td>\n",
       "      <td>1</td>\n",
       "      <td>0.001754</td>\n",
       "    </tr>\n",
       "    <tr>\n",
       "      <th>ﬂüsterndes</th>\n",
       "      <td>1</td>\n",
       "      <td>1</td>\n",
       "      <td>0.001754</td>\n",
       "    </tr>\n",
       "  </tbody>\n",
       "</table>\n",
       "<p>70003 rows × 3 columns</p>\n",
       "</div>"
      ],
      "text/plain": [
       "             count  movies_count  presence\n",
       "word                                      \n",
       "aaa             10             4  0.007018\n",
       "aaaa             7             2  0.003509\n",
       "aaaaaaaaahh      1             1  0.001754\n",
       "aaaaaaah         1             1  0.001754\n",
       "aaaaaah          2             2  0.003509\n",
       "...            ...           ...       ...\n",
       "ﬁrst             4             1  0.001754\n",
       "ﬁves             1             1  0.001754\n",
       "ﬂag              1             1  0.001754\n",
       "ﬂiegt            1             1  0.001754\n",
       "ﬂüsterndes       1             1  0.001754\n",
       "\n",
       "[70003 rows x 3 columns]"
      ]
     },
     "execution_count": 22,
     "metadata": {},
     "output_type": "execute_result"
    }
   ],
   "source": [
    "words_df = pd \\\n",
    "    .DataFrame(data={'word': all_words, 'count': words_count, 'movies_count': movies_count}) \\\n",
    "    .groupby(['word']) \\\n",
    "    .sum()\n",
    "words_df['presence'] = words_df.movies_count / len(movies)\n",
    "words_df"
   ]
  },
  {
   "cell_type": "code",
   "execution_count": 11,
   "metadata": {},
   "outputs": [
    {
     "data": {
      "image/png": "[encoded data removed]",
      "text/plain": [
       "<Figure size 432x288 with 1 Axes>"
      ]
     },
     "metadata": {
      "needs_background": "light"
     },
     "output_type": "display_data"
    }
   ],
   "source": [
    "fig = words_df.presence.hist(bins=10)"
   ]
  },
  {
   "cell_type": "code",
   "execution_count": 26,
   "metadata": {},
   "outputs": [
    {
     "data": {
      "text/plain": [
       "735"
      ]
     },
     "execution_count": 26,
     "metadata": {},
     "output_type": "execute_result"
    }
   ],
   "source": [
    "THRESHOLD = .4\n",
    "stop_words_df = words_df[words_df.presence > THRESHOLD]\n",
    "stop_words = list(stop_words_df.index) \n",
    "len(stop_words)"
   ]
  },
  {
   "cell_type": "code",
   "execution_count": 27,
   "metadata": {},
   "outputs": [],
   "source": [
    "with open(\"stop_words.json\", \"w\") as json_file:\n",
    "    json.dump(stop_words, json_file)"
   ]
  }
 ],
 "metadata": {
  "kernelspec": {
   "display_name": "MovieWordCloud",
   "language": "python",
   "name": "moviewordcloud"
  },
  "language_info": {
   "codemirror_mode": {
    "name": "ipython",
    "version": 3
   },
   "file_extension": ".py",
   "mimetype": "text/x-python",
   "name": "python",
   "nbconvert_exporter": "python",
   "pygments_lexer": "ipython3",
   "version": "3.8.3"
  }
 },
 "nbformat": 4,
 "nbformat_minor": 4
}
