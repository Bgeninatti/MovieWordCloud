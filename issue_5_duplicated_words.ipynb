{
 "cells": [
  {
   "cell_type": "markdown",
   "metadata": {},
   "source": [
    "# Issue 5\n",
    "\n",
    "For some movies there are duplicated words in the word cloud.\n",
    "Examples:\n",
    "\n",
    "| Movie | IMDB ID | Repeated Word |\n",
    "| -------- |:-----------:| ---------------------:|\n",
    "| [Fighting with My Family](https://twitter.com/moviewordcloud/status/1241519323010813952/photo/1) | 6513120 | paige |\n",
    "| [Freaks](https://twitter.com/moviewordcloud/status/1238545478167531520/photo/1) | 8781414 | chloe |\n",
    "| [Bhaag Milkha Bhaag](https://twitter.com/moviewordcloud/status/1237394031857922050/photo/1) | 2356180 | milkha |\n",
    "| [Warrior](https://twitter.com/moviewordcloud/status/1236326040554921986/photo/1) | 1291584 | tommy |"
   ]
  },
  {
   "cell_type": "code",
   "execution_count": 1,
   "metadata": {},
   "outputs": [
    {
     "data": {
      "text/plain": [
       "[(<Movie: 6513120>, 'paige'),\n",
       " (<Movie: 8781414>, 'chloe'),\n",
       " (<Movie: 2356180>, 'milkha'),\n",
       " (<Movie: 1291584>, 'tommy')]"
      ]
     },
     "execution_count": 1,
     "metadata": {},
     "output_type": "execute_result"
    }
   ],
   "source": [
    "from models import init_db, get_next_movie\n",
    "from cfg import DB_PATH\n",
    "\n",
    "init_db(DB_PATH)\n",
    "sample_movies = [\n",
    "    (get_next_movie(6513120), 'paige'),\n",
    "    (get_next_movie(8781414), 'chloe'),\n",
    "    (get_next_movie(2356180), 'milkha'),\n",
    "    (get_next_movie(1291584), 'tommy'), \n",
    "]\n",
    "\n",
    "sample_movies"
   ]
  },
  {
   "cell_type": "code",
   "execution_count": 9,
   "metadata": {},
   "outputs": [],
   "source": [
    "from helpers import open_srt, get_stop_words, tokenize_subtittle, create_wordclod\n",
    "m = sample_movies[0]\n",
    "\n",
    "for m in sample_movies:\n",
    "    with open(m[0].srt_file, encoding=\"utf-8\") as srt_file:\n",
    "        subtittles = open_srt(srt_file)\n",
    "\n",
    "    words = ' '.join(map(tokenize_subtittle, subtittles))\n",
    "    stop_words = get_stop_words()\n",
    "\n",
    "    create_wordclod(words, stop_words, f\"{m[0].name.replace(' ', '_')}_before.png\", True)\n",
    "    create_wordclod(words, stop_words, f\"{m[0].name.replace(' ', '_')}_after.png\", False)\n"
   ]
  },
  {
   "cell_type": "markdown",
   "metadata": {},
   "source": [
    "The problem was in the attempt of wordcloud in search bigrams instead of single words.\n",
    "With the param collocations=False the issue is resolved."
   ]
  }
 ],
 "metadata": {
  "kernelspec": {
   "display_name": "MovieWordCloud",
   "language": "python",
   "name": "moviewordcloud"
  },
  "language_info": {
   "codemirror_mode": {
    "name": "ipython",
    "version": 3
   },
   "file_extension": ".py",
   "mimetype": "text/x-python",
   "name": "python",
   "nbconvert_exporter": "python",
   "pygments_lexer": "ipython3",
   "version": "3.8.2"
  }
 },
 "nbformat": 4,
 "nbformat_minor": 4
}
